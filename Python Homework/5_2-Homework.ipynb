{
 "cells": [
  {
   "cell_type": "markdown",
   "metadata": {},
   "source": [
    "## 5.2 Python Homework\n",
    "***"
   ]
  },
  {
   "cell_type": "markdown",
   "metadata": {},
   "source": [
    "\n",
    "1. What is an algorithm?\n",
    "    \n",
    "    A. Series of steps to solve the problem at hand \n",
    "    \n",
    "2. Why is Python considered to be a high-level language?\n",
    "    \n",
    "    A. Python is considered a high-level language because it needs to  be \"translated\" into machine language for a computer to understand.\n",
    "    \n",
    "3. Is Python a Natural or a Formal language?\n",
    "    \n",
    "    A. Python is a formal language.\n",
    "\n",
    "4. Variable names may not start with certain characters - name two.\n",
    "    \n",
    "    A. A Number or no alpha-numeric characters like (!,@,:, etc.)\n",
    "    \n",
    "5. What is a Semantic error?\n",
    "    \n",
    "    A. Semantic error is a code grammatically correct but doesn't make any sense.\n",
    "\n",
    "6. What is the #1 rule of coding / debugging?\n",
    "    \n",
    "    A. Complecity is the enemy of efficiency.\n",
    "    \n",
    "7. List 5 Python reserved words.\n",
    "    \n",
    "    A.  \n",
    "        1.FALSE <br>\n",
    "        2.TRUE <br>\n",
    "        3.pass <br>\n",
    "        4.elif <br>\n",
    "        5.except <br>\n",
    "\n",
    "8. Add and name, a web link for any Python coding article, in your markdown cell\n",
    "    \n",
    "    A. Great article read for basic python at [Learn the basics of Python](https://developer.ibm.com/articles/python-overview-and-basics/)\n"
   ]
  },
  {
   "cell_type": "code",
   "execution_count": 1,
   "metadata": {},
   "outputs": [
    {
     "name": "stdout",
     "output_type": "stream",
     "text": [
      "Length of my string: 7\n",
      "Index Value of str: l\n",
      "ing Data Analytics\n",
      "Learning Data Analytics and Python is Great\n",
      "'Python' is in savvy\n",
      "Hi my name is Osvaldo, I am 6 Feet and 25 old today.\n",
      "25.0\n"
     ]
    }
   ],
   "source": [
    "#Write a multi-line comment with your name, \n",
    "# favorite food, and dream job on 3 different lines.\n",
    "'''\n",
    "Osvaldo Ibarra-Zavala\n",
    "Mole\n",
    "Data Analyst for Formula 1\n",
    "'''\n",
    "#assign 5 different data types to 5 different variables. \n",
    "#At least one datatype must be a string.\n",
    "a = str('Osvaldo')\n",
    "b = int(25.8)\n",
    "c = float(25)\n",
    "d = list(['Red Bull', 11 , 'Sergio Perez'])\n",
    "e = dict({'Constructor':'Red Bull', 'RacerNumber': 11, 'Driver':\"Sergio Perez\"})\n",
    "#create a new variable called savvy, and assign it the string with this phrase \n",
    "#\"Learning Data Analytics and Python is Awesome!\"\n",
    "savvy = 'Learning Data Analytics and Python is Awesome!'\n",
    "\n",
    "#print the length of your string.\n",
    "print('Length of my string:',len(a))\n",
    "\n",
    "#print the the index value of the 4th character in your string.\n",
    "print('Index Value of str:',(a[4]))\n",
    "\n",
    "#return a range of \n",
    "#characters that slices the above string from the beginning of  \"ing\" up to before \"and\"\n",
    "print(savvy[5:23])\n",
    "\n",
    "#Replace \"Awesome\" with \"great\" in the string\n",
    "print(savvy.replace(\"Awesome!\", \"Great\"))\n",
    "\n",
    "#Test and print the savvy string to see it contains \"Python\"\n",
    "if 'Python' in savvy:\n",
    "    print(\"'Python' is in savvy\")\n",
    "#Create and assign 3 more variables called \n",
    "#name, age and length using the multi-variable  naming method.\n",
    "name, age, length = 'Osvaldo', 25, '6 Feet'\n",
    "\n",
    "#Format a new string called 'miniBio' using variables in curly brackets to complete this phrase... \n",
    "#\"Hi my name is (name), I am (tall) and (so) old today.\"\n",
    "#print 'miniBio'\n",
    "miniBio = \"Hi my name is {}, I am {} and {} old today.\"\n",
    "print(miniBio.format(name, length, age))\n",
    "\n",
    "#cast and print the age variable to a float.\n",
    "print(float(age))"
   ]
  },
  {
   "cell_type": "code",
   "execution_count": null,
   "metadata": {},
   "outputs": [],
   "source": []
  }
 ],
 "metadata": {
  "kernelspec": {
   "display_name": "Python 3.10.7 64-bit",
   "language": "python",
   "name": "python3"
  },
  "language_info": {
   "codemirror_mode": {
    "name": "ipython",
    "version": 3
   },
   "file_extension": ".py",
   "mimetype": "text/x-python",
   "name": "python",
   "nbconvert_exporter": "python",
   "pygments_lexer": "ipython3",
   "version": "3.10.7"
  },
  "orig_nbformat": 4,
  "vscode": {
   "interpreter": {
    "hash": "39626bd1ba697260b20d76c62386ffe16d5e9c98e7fc38f061a9a9b6c817525c"
   }
  }
 },
 "nbformat": 4,
 "nbformat_minor": 2
}
