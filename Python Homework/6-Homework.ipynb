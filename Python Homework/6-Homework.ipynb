{
 "cells": [
  {
   "cell_type": "code",
   "execution_count": 59,
   "metadata": {},
   "outputs": [
    {
     "name": "stdout",
     "output_type": "stream",
     "text": [
      "Renting a car is very expensive.\n"
     ]
    }
   ],
   "source": [
    "#1. Create an if statement: if 'age' is greater than or equal to 25, print \"Renting a car is more affordable\", \n",
    "# however if 'age' is less than 25, print \"Renting a car is very expensive.\"\n",
    "age = 16\n",
    "if age >= 25:\n",
    "    print(\"Renting a car is more affordable\")\n",
    "elif age < 25:\n",
    "    print(\"Renting a car is very expensive.\")\n",
    "else:    \n",
    "    print('error')"
   ]
  },
  {
   "cell_type": "code",
   "execution_count": 58,
   "metadata": {},
   "outputs": [
    {
     "name": "stdout",
     "output_type": "stream",
     "text": [
      "You cannot legally rent a car.\n"
     ]
    }
   ],
   "source": [
    "#2. Create and chain an if-else  statement: \n",
    "# if 'age' is greater than or equal to 25, print \"Renting a car is more affordable.\" \n",
    "# If 'age' is less than 25 but greater than or equal to 18, print \"Renting a car is very expensive.\" \n",
    "# Finally, if age is less than 18, print \"You cannot legally rent a car.\"\n",
    "if age >= 25: \n",
    "    print(\"Renting a car is more affordable.\" )\n",
    "elif age < 25 and age >= 18:\n",
    "    print(\"Renting a car is very expensive.\" )\n",
    "elif age < 18:\n",
    "    print(\"You cannot legally rent a car.\")\n",
    "else:\n",
    "    print('error')"
   ]
  },
  {
   "cell_type": "code",
   "execution_count": 57,
   "metadata": {},
   "outputs": [
    {
     "name": "stdout",
     "output_type": "stream",
     "text": [
      "# of Characters:  43\n",
      "Vowel List:\n",
      "e\n",
      "u\n",
      "i\n",
      "o\n",
      "o\n",
      "u\n",
      "o\n",
      "e\n",
      "e\n",
      "a\n",
      "o\n"
     ]
    }
   ],
   "source": [
    "#3. Loop over the following string to \n",
    "# (1) count all the characters in the string and print out all the vowels -- \n",
    "# \"The quick brown fox jumps over the lazy dog\"\n",
    "str1 = \"The quick brown fox jumps over the lazy dog\" \n",
    "v = 'aeiouAEIOU'\n",
    "\n",
    "print('# of Characters: ', len(str1))\n",
    "print('Vowel List:')\n",
    "for vowels in str1:\n",
    "    if vowels in v:\n",
    "        print (vowels)"
   ]
  },
  {
   "cell_type": "code",
   "execution_count": 56,
   "metadata": {},
   "outputs": [
    {
     "name": "stdout",
     "output_type": "stream",
     "text": [
      "trousers fuchsia\n",
      "trousers burnt sienna\n",
      "trousers cerise\n",
      "trousers auburn\n",
      "trousers maple\n",
      "trousers aqua\n",
      "trousers Dark Sapphire\n",
      "trousers gunmetal blue\n",
      "blouse fuchsia\n",
      "blouse burnt sienna\n",
      "blouse cerise\n",
      "blouse auburn\n",
      "blouse maple\n",
      "blouse aqua\n",
      "blouse Dark Sapphire\n",
      "blouse gunmetal blue\n",
      "bandana fuchsia\n",
      "bandana burnt sienna\n",
      "bandana cerise\n",
      "bandana auburn\n",
      "bandana maple\n",
      "bandana aqua\n",
      "bandana Dark Sapphire\n",
      "bandana gunmetal blue\n",
      "cumber band fuchsia\n",
      "cumber band burnt sienna\n",
      "cumber band cerise\n",
      "cumber band auburn\n",
      "cumber band maple\n",
      "cumber band aqua\n",
      "cumber band Dark Sapphire\n",
      "cumber band gunmetal blue\n",
      "blazer fuchsia\n",
      "blazer burnt sienna\n",
      "blazer cerise\n",
      "blazer auburn\n",
      "blazer maple\n",
      "blazer aqua\n",
      "blazer Dark Sapphire\n",
      "blazer gunmetal blue\n",
      "vest fuchsia\n",
      "vest burnt sienna\n",
      "vest cerise\n",
      "vest auburn\n",
      "vest maple\n",
      "vest aqua\n",
      "vest Dark Sapphire\n",
      "vest gunmetal blue\n",
      "french beret fuchsia\n",
      "french beret burnt sienna\n",
      "french beret cerise\n",
      "french beret auburn\n",
      "french beret maple\n",
      "french beret aqua\n",
      "french beret Dark Sapphire\n",
      "french beret gunmetal blue\n",
      "scarf fuchsia\n",
      "scarf burnt sienna\n",
      "scarf cerise\n",
      "scarf auburn\n",
      "scarf maple\n",
      "scarf aqua\n",
      "scarf Dark Sapphire\n",
      "scarf gunmetal blue\n",
      "stole fuchsia\n",
      "stole burnt sienna\n",
      "stole cerise\n",
      "stole auburn\n",
      "stole maple\n",
      "stole aqua\n",
      "stole Dark Sapphire\n",
      "stole gunmetal blue\n"
     ]
    }
   ],
   "source": [
    "#4. Write a nested loop that prints out every piece of clothing from the `couture` list, \n",
    "# in every fashionable color from the `panettone` set: \n",
    "# couture = [\"trousers\", \"blouse\", \"bandana\", \"cumber band\",\n",
    "# \"blazer\", \"vest\", \"french beret\", \"scarf\", \"stole\"] and \n",
    "# panettone = {\"cerise\", \"fuchsia\", \"aqua\", \"maple\", \"auburn\", \"burnt sienna\", \n",
    "# \"gunmetal blue\", \"Dark Sapphire\"}\n",
    "couture = [\"trousers\", \"blouse\", \"bandana\", \"cumber band\",\"blazer\", \"vest\", \"french beret\", \"scarf\", \"stole\"]\n",
    "panettone = {\"cerise\", \"fuchsia\", \"aqua\", \"maple\", \"auburn\", \"burnt sienna\", \"gunmetal blue\", \"Dark Sapphire\"}\n",
    "\n",
    "for x in couture:\n",
    "    for y in panettone:\n",
    "        print(x,y)"
   ]
  },
  {
   "cell_type": "code",
   "execution_count": 31,
   "metadata": {},
   "outputs": [
    {
     "name": "stdout",
     "output_type": "stream",
     "text": [
      "5050\n"
     ]
    }
   ],
   "source": [
    "#5. Use range as a loop to calculate the sum of all the numbers from 1 to 100\n",
    "total = 0\n",
    "for x in range(1,101):\n",
    "    total += x\n",
    "print(total)"
   ]
  },
  {
   "cell_type": "code",
   "execution_count": 45,
   "metadata": {},
   "outputs": [
    {
     "name": "stdout",
     "output_type": "stream",
     "text": [
      "banana\n",
      "['kiwi', 'banana', 'cherry']\n",
      "['kiwi', 'banana', 'cherry', 'orange']\n",
      "['kiwi', 'lemon', 'banana', 'cherry', 'orange']\n",
      "['kiwi', 'lemon', 'cherry', 'orange']\n",
      "['kiwi', 'melon']\n",
      "['cherry', 'orange', 'kiwi']\n",
      "# of items: 7\n",
      "['orange', 'melon', 'mango', 'kiwi', 'cherry', 'banana', 'apple']\n"
     ]
    }
   ],
   "source": [
    "#6. Print the second item in this fruits list.[\"apple\", \"banana\", \"cherry\"]\n",
    "fruit =  [\"apple\", \"banana\", \"cherry\"]  \n",
    "print(fruit[1]) \n",
    "\n",
    "#7. Change the value from \"apple\" to \"kiwi\", in the fruits list. [\"apple\", \"banana\", \"cherry\"]\n",
    "fruit[0] = 'kiwi'\n",
    "print(fruit)\n",
    "\n",
    "#8. Use the append method to add \"orange\" to the fruits list. [\"apple\", \"banana\", \"cherry\"]\n",
    "fruit.append('orange')\n",
    "print(fruit)\n",
    "\n",
    "#9. Use the insert method to add \"lemon\" as the second item in the fruits list.[\"apple\", \"banana\", \"cherry\"]\n",
    "fruit.insert(1,'lemon')\n",
    "print(fruit)\n",
    "\n",
    "#10. Use the remove method to remove \"banana\" from the fruits list.[\"apple\", \"banana\", \"cherry\"]\n",
    "fruit.remove('banana')\n",
    "print(fruit)\n",
    "\n",
    "#11. Use negative indexing to print the 3rd and 2nd to last items in the list.\n",
    "#[\"apple\", \"banana\", \"cherry\", \"orange\", \"kiwi\", \"melon\", \"mango\"]\n",
    "f2 = [\"apple\", \"banana\", \"cherry\", \"orange\", \"kiwi\", \"melon\", \"mango\"]\n",
    "print(f2[-3:-1])\n",
    "#12. Use a range of indexes to print the third, fourth, and fifth item in the list.\n",
    "#[\"apple\", \"banana\", \"cherry\", \"orange\", \"kiwi\", \"melon\", \"mango\"]\n",
    "print(f2[2:5])\n",
    "\n",
    "#13. Use the correct syntax to print the number of items in the list.\n",
    "#[\"apple\", \"banana\", \"cherry\", \"orange\", \"kiwi\", \"melon\", \"mango\"]\n",
    "print('# of items:', len(f2))\n",
    "\n",
    "#14. Use the correct syntax to sort this list in reverse order\n",
    "#[\"apple\", \"banana\", \"cherry\", \"orange\", \"kiwi\", \"melon\", \"mango\"]\n",
    "f2.sort(reverse = True)\n",
    "print(f2)\n"
   ]
  },
  {
   "cell_type": "code",
   "execution_count": 49,
   "metadata": {},
   "outputs": [
    {
     "name": "stdout",
     "output_type": "stream",
     "text": [
      "2022-11-21 16:07:16.812628\n",
      "Month: November\n"
     ]
    }
   ],
   "source": [
    "#15. Use the DateTime module to get Current Date and Time, and save it to a variable. \n",
    "# Then extract just the month name form that variable.\n",
    "import datetime as dt\n",
    "\n",
    "myTime = dt.datetime.now()\n",
    "\n",
    "print(myTime)\n",
    "print('Month:', myTime.strftime('%B'))\n"
   ]
  },
  {
   "cell_type": "code",
   "execution_count": 52,
   "metadata": {},
   "outputs": [
    {
     "name": "stdout",
     "output_type": "stream",
     "text": [
      "Hi,Osvaldo! Happy Friday!\n",
      "Hi,Charlie! Happy Sunday!\n"
     ]
    }
   ],
   "source": [
    "#16. Write a simple function that takes 2 parameters -- a  first name and a day name.\n",
    "#Set a default value for the day name of Sunday.\n",
    "# Have the function print out a greeting \n",
    "# -- using the parameters -- that says something like \n",
    "# \"Hi first-name! Happy day-name!\". \n",
    "# Remember to use the variables in the greeting to replace first-name and day-name.  \n",
    "# Invoke this function with 2 variables.\n",
    "# Invoke this function with 1 variable only.\n",
    "\n",
    "def firstnameday (name, day = \"Sunday\"):\n",
    "    print(\"Hi,\"+name+\"! Happy \"+day+\"!\")\n",
    "\n",
    "firstnameday('Osvaldo', 'Friday')\n",
    "firstnameday('Charlie')\n",
    "\n"
   ]
  },
  {
   "cell_type": "code",
   "execution_count": 55,
   "metadata": {},
   "outputs": [
    {
     "name": "stdout",
     "output_type": "stream",
     "text": [
      "[[[ 0  1]\n",
      "  [ 2  3]\n",
      "  [ 4  5]]\n",
      "\n",
      " [[ 6  7]\n",
      "  [ 8  9]\n",
      "  [10 11]]]\n",
      "[ 0.  4.  8. 12. 16. 20.]\n",
      "[ 0.  4.  8. 12. 16. 20.]\n"
     ]
    }
   ],
   "source": [
    "#17. Import NumPy and create an array with a shape of ... (2, 3, 2)\n",
    "import numpy as np\n",
    "\n",
    "array = np.arange(12).reshape(2,3,2)\n",
    "print(array)\n",
    "\n",
    "#18. Use NumPy `.linspace()` to create an array with 6 linearly spaced values between 0 and 20\n",
    "linar = np.linspace(0, 20, num=6)\n",
    "print(linar)\n",
    "\n",
    "#19. Make a Deep Copy of the above array you created.\n",
    "import copy \n",
    "linar2 = copy.deepcopy(linar)\n",
    "print(linar2)   \n"
   ]
  },
  {
   "cell_type": "markdown",
   "metadata": {},
   "source": [
    "# 20. What are 2 reasons we use NumPy over Python Lists\n",
    "- NumPy arrays are faster and use less space than python lists."
   ]
  }
 ],
 "metadata": {
  "kernelspec": {
   "display_name": "Python 3.10.7 64-bit",
   "language": "python",
   "name": "python3"
  },
  "language_info": {
   "codemirror_mode": {
    "name": "ipython",
    "version": 3
   },
   "file_extension": ".py",
   "mimetype": "text/x-python",
   "name": "python",
   "nbconvert_exporter": "python",
   "pygments_lexer": "ipython3",
   "version": "3.10.7"
  },
  "orig_nbformat": 4,
  "vscode": {
   "interpreter": {
    "hash": "39626bd1ba697260b20d76c62386ffe16d5e9c98e7fc38f061a9a9b6c817525c"
   }
  }
 },
 "nbformat": 4,
 "nbformat_minor": 2
}
