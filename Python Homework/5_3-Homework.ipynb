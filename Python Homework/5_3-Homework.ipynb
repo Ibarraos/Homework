{
 "cells": [
  {
   "cell_type": "code",
   "execution_count": 28,
   "metadata": {},
   "outputs": [
    {
     "name": "stdout",
     "output_type": "stream",
     "text": [
      "['Lion', 25, False, 'Tiger', 4]\n",
      "['Lion', 25, 'Puma', False, 'Tiger', 4, 'Cheetah', 60]\n",
      "Length of List: 8\n",
      "['Tiger', 4, 'Cheetah', 60]\n",
      "['Lion', 25, 'Puma', False, 'Tiger', 4, 'Cheetah', 60, 'Tiger', 4, 'Cheetah', 60]\n",
      "[25, 20, 15, 10, 5]\n",
      "[25, 20, 15, 10, 5]\n",
      "['Tiger', 4, 'Cheetah', 60, 25, 20, 15, 10, 5]\n",
      "(1, 2, 3, 4, 5, 1, 2, 3, 4, 5, 1, 2, 3, 4, 5)\n",
      "2\n",
      "(1, 1, 1, 2, 2, 2, 3, 3, 3, 4, 4, 4, 5, 5, 5)\n",
      "(5, 1, 2, 3)\n",
      "up1= 5 up2= 1 up3= 2 up4= 3\n",
      "(50,)\n",
      "(1, 2, 3, 4, 5, 1, 2, 3, 4, 5, 1, 2, 3, 4, 5, 5, 1, 2, 3)\n"
     ]
    }
   ],
   "source": [
    "# Create a file and name it 5_3-Homework (this can be a Python file or a Jupyter Notebook file)\n",
    "# Create a list of at least 5 elements of mixed data types\n",
    "mixed = [\"Lion\", 24.5, False, \"Tiger\", 4]\n",
    "m = mixed\n",
    "\n",
    "# replace a part of it with something else\n",
    "mixed[1] = 25\n",
    "print(mixed)\n",
    "\n",
    "# append or insert several more items to the list \n",
    "m.append(\"Cheetah\")\n",
    "m.append(60)\n",
    "m.insert(2,\"Puma\")\n",
    "print(m)\n",
    "\n",
    "# find and print the length of the list\n",
    "print('Length of List:', len(m))\n",
    "\n",
    "# slice a sub-section of the 1st list, and save it to a different 2nd list\n",
    "l = list2 = m[4:9]\n",
    "\n",
    "# print the 2nd list\n",
    "print(list2)\n",
    "\n",
    "# extend your original list with the 2nd list sliced above\n",
    "m.extend(l)\n",
    "print(m)\n",
    "\n",
    "# Create a new list called \"simList\" \n",
    "# containing at least 5 elements of the same data type, either string, integer, float, or Boolean.\n",
    "simList = [5,10,15,20,25]\n",
    "\n",
    "# sort \"simList\", and print the list\n",
    "simList.sort(reverse=True)\n",
    "print(simList)\n",
    "# copy the \"simList\" list to another 3rd list\n",
    "list3 = simList.copy()\n",
    "print(list3)\n",
    "# add the 2nd and 3rd lists together into a 4th list\n",
    "list4 = list2 + list3\n",
    "print(list4)\n",
    "\n",
    "\n",
    "#Create a tuple of about 5 elements\n",
    "T = (1,2,3,4,5)\n",
    "\n",
    "# multiply your tuple by 3 and save it to a new 2nd tuple\n",
    "t2 = T*3\n",
    "print(t2)\n",
    "# access and print the 12th element from the 2nd tuple\n",
    "print(t2[11])\n",
    "\n",
    "# sort the 2nd tuple and print it\n",
    "t25 = tuple(sorted(t2))\n",
    "print(t25)\n",
    "# copy 4 specific elements from your 2nd tuple to a new 3nd tuple\n",
    "t3 = t2[4:8]\n",
    "print(t3)\n",
    "# unpack the 3rd tuple into 4 variables and print these variables\n",
    "up1, up2, up3, up4 = t3\n",
    "print(\"up1=\", up1, 'up2=', up2, 'up3=', up3, 'up4=', up4)\n",
    "\n",
    "# create a 4th tuple with single item 50 and print this tuple\n",
    "t4 = (50,)\n",
    "print(t4)\n",
    "# add the 2nd and 3rd tuple together into a 5th tuple and print the tuple\n",
    "t5 = t2 + t3\n",
    "print(t5)"
   ]
  }
 ],
 "metadata": {
  "kernelspec": {
   "display_name": "Python 3.10.7 64-bit",
   "language": "python",
   "name": "python3"
  },
  "language_info": {
   "codemirror_mode": {
    "name": "ipython",
    "version": 3
   },
   "file_extension": ".py",
   "mimetype": "text/x-python",
   "name": "python",
   "nbconvert_exporter": "python",
   "pygments_lexer": "ipython3",
   "version": "3.10.7"
  },
  "orig_nbformat": 4,
  "vscode": {
   "interpreter": {
    "hash": "39626bd1ba697260b20d76c62386ffe16d5e9c98e7fc38f061a9a9b6c817525c"
   }
  }
 },
 "nbformat": 4,
 "nbformat_minor": 2
}
